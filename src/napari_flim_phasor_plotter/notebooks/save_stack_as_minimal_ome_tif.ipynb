{
 "cells": [
  {
   "cell_type": "code",
   "execution_count": 9,
   "metadata": {},
   "outputs": [],
   "source": [
    "import napari\n",
    "from skimage import data\n",
    "import tifffile"
   ]
  },
  {
   "cell_type": "code",
   "execution_count": 5,
   "metadata": {},
   "outputs": [
    {
     "name": "stdout",
     "output_type": "stream",
     "text": [
      "(60, 2, 256, 256)\n"
     ]
    }
   ],
   "source": [
    "cells_3d = data.cells3d()\n",
    "print(cells_3d.shape)\n"
   ]
  },
  {
   "cell_type": "code",
   "execution_count": 13,
   "metadata": {},
   "outputs": [],
   "source": [
    "axes_order = 'ZCYX'\n",
    "x_voxel_size = 0.13\n",
    "y_voxel_size = 0.13\n",
    "z_voxel_size = 0.4\n",
    "voxel_units = 'µm'\n",
    "time_increment = 1\n",
    "time_units = 's'\n",
    "channel_names = []\n",
    "output_file_name = 'cells_3d'"
   ]
  },
  {
   "cell_type": "code",
   "execution_count": 7,
   "metadata": {},
   "outputs": [],
   "source": [
    "metadata_minimal_template = dict()\n",
    "metadata_minimal_template['axes'] = axes_order\n",
    "metadata_minimal_template['PhysicalSizeX'] = x_voxel_size\n",
    "metadata_minimal_template['PhysicalSizeXUnit'] = voxel_units\n",
    "metadata_minimal_template['PhysicalSizeY'] = y_voxel_size\n",
    "metadata_minimal_template['PhysicalSizeYUnit'] = voxel_units\n",
    "if 'Z' in axes_order:\n",
    "    metadata_minimal_template['PhysicalSizeZ'] = z_voxel_size\n",
    "    metadata_minimal_template['PhysicalSizeZUnit'] = voxel_units\n",
    "if 'T' in axes_order:\n",
    "    metadata_minimal_template['TimeIncrement'] = time_increment\n",
    "    metadata_minimal_template['TimeIncrementUnit'] = time_units\n",
    "if 'C' in axes_order:\n",
    "    metadata_minimal_template['Channel'] = dict()\n",
    "    if len(channel_names) > 0:\n",
    "        metadata_minimal_template['Channel']['Name'] = channel_names\n",
    "    else:\n",
    "        metadata_minimal_template['Channel']['Name'] = ['Channel ' + str(i) for i in range(cells_3d.shape[axes_order.index('C')])]\n"
   ]
  },
  {
   "cell_type": "code",
   "execution_count": 8,
   "metadata": {},
   "outputs": [
    {
     "data": {
      "text/plain": [
       "{'axes': 'ZCYX',\n",
       " 'PhysicalSizeX': 0.13,\n",
       " 'PhysicalSizeXUnit': 'µm',\n",
       " 'PhysicalSizeY': 0.13,\n",
       " 'PhysicalSizeYUnit': 'µm',\n",
       " 'PhysicalSizeZ': 0.4,\n",
       " 'PhysicalSizeZUnit': 'µm',\n",
       " 'Channel': {'Name': ['Channel 0', 'Channel 1']}}"
      ]
     },
     "execution_count": 8,
     "metadata": {},
     "output_type": "execute_result"
    }
   ],
   "source": [
    "metadata_minimal_template"
   ]
  },
  {
   "cell_type": "code",
   "execution_count": 14,
   "metadata": {},
   "outputs": [
    {
     "name": "stdout",
     "output_type": "stream",
     "text": [
      "cells_3d.ome.tif\n"
     ]
    }
   ],
   "source": [
    "output_path = output_file_name + '.ome.tif'\n",
    "print(output_path)\n",
    "with tifffile.TiffWriter(output_path, ome=True) as tif:\n",
    "    tif.write(cells_3d, metadata=metadata_minimal_template, compression='zlib')"
   ]
  },
  {
   "cell_type": "code",
   "execution_count": null,
   "metadata": {},
   "outputs": [],
   "source": []
  }
 ],
 "metadata": {
  "kernelspec": {
   "display_name": "zarr2ometif3",
   "language": "python",
   "name": "python3"
  },
  "language_info": {
   "codemirror_mode": {
    "name": "ipython",
    "version": 3
   },
   "file_extension": ".py",
   "mimetype": "text/x-python",
   "name": "python",
   "nbconvert_exporter": "python",
   "pygments_lexer": "ipython3",
   "version": "3.9.15"
  }
 },
 "nbformat": 4,
 "nbformat_minor": 2
}
