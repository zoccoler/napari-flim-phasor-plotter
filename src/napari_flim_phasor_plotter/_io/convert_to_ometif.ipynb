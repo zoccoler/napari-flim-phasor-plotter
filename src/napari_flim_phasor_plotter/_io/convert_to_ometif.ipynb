{
 "cells": [
  {
   "cell_type": "code",
   "execution_count": null,
   "metadata": {},
   "outputs": [],
   "source": []
  },
  {
   "cell_type": "code",
   "execution_count": 1,
   "metadata": {},
   "outputs": [],
   "source": [
    "folder_path = r\"D:\\Datasets\\FLIM\\ptu_files\\z_stack_time_lapse\\embryo_43pl_2ch_3tps\"\n",
    "# xml_path = None\n",
    "z_pixel_size = 0.5*1e-6 # in m\n",
    "pixel_size_unit = 'm'\n",
    "time_resolution_per_slice = 0.663 # in seconds\n",
    "time_unit = 's'\n",
    "channel_names = ['Centrosomes', 'Membrane and Chromatin']"
   ]
  },
  {
   "cell_type": "code",
   "execution_count": 3,
   "metadata": {},
   "outputs": [
    {
     "name": "stderr",
     "output_type": "stream",
     "text": [
      "Calculating stack shape from individual files: 100%|██████████| 129/129 [00:08<00:00, 15.04files/s]\n",
      "100%|██████████| 43/43 [00:08<00:00,  4.85it/s]\n"
     ]
    },
    {
     "name": "stdout",
     "output_type": "stream",
     "text": [
      "Processing timepoint: 0\n",
      "Saving OME-TIF...\n"
     ]
    },
    {
     "name": "stderr",
     "output_type": "stream",
     "text": [
      "100%|██████████| 43/43 [00:09<00:00,  4.67it/s]\n"
     ]
    },
    {
     "name": "stdout",
     "output_type": "stream",
     "text": [
      "Processing timepoint: 1\n",
      "Saving OME-TIF...\n"
     ]
    },
    {
     "name": "stderr",
     "output_type": "stream",
     "text": [
      "100%|██████████| 43/43 [00:11<00:00,  3.90it/s]\n"
     ]
    },
    {
     "name": "stdout",
     "output_type": "stream",
     "text": [
      "Processing timepoint: 2\n",
      "Saving OME-TIF...\n"
     ]
    },
    {
     "name": "stderr",
     "output_type": "stream",
     "text": [
      "100%|██████████| 3/3 [00:45<00:00, 15.07s/it]"
     ]
    },
    {
     "name": "stdout",
     "output_type": "stream",
     "text": [
      "Done\n"
     ]
    },
    {
     "name": "stderr",
     "output_type": "stream",
     "text": [
      "\n"
     ]
    }
   ],
   "source": [
    "import zarr\n",
    "from magicgui.tqdm import tqdm\n",
    "from numcodecs import Blosc\n",
    "import dask.array as da\n",
    "import numpy as np\n",
    "from pathlib import Path\n",
    "from natsort import natsorted\n",
    "from napari_flim_phasor_plotter._reader import get_read_function_from_extension, get_most_frequent_file_extension\n",
    "from napari_flim_phasor_plotter._reader import get_max_slice_shape_and_dtype, get_structured_list_of_paths\n",
    "from napari_flim_phasor_plotter._reader import get_max_zslices, get_max_time_points, ALLOWED_FILE_EXTENSION\n",
    "from utilities import format_metadata\n",
    "import tifffile\n",
    "\n",
    "folder_path = Path(folder_path)\n",
    "file_extension = get_most_frequent_file_extension(folder_path)\n",
    "if file_extension not in ALLOWED_FILE_EXTENSION:\n",
    "    if file_extension == '':\n",
    "        message = 'Please select a folder containing FLIM images.'\n",
    "        print(message)\n",
    "    else:\n",
    "        message = 'Plugin does not support ' + \\\n",
    "            file_extension + ' . Supported file extensions are: '\n",
    "        message += ', '.join(ALLOWED_FILE_EXTENSION[:-1])\n",
    "        print(message)\n",
    "\n",
    "# Get appropriate read function from file extension\n",
    "imread = get_read_function_from_extension[file_extension]\n",
    "# Get all file path with specified file extension\n",
    "file_paths = natsorted([file_path for file_path in folder_path.iterdir(\n",
    ") if file_path.suffix == file_extension])\n",
    "# Get maximum shape and dtype from file names (file names must be in the format: \"name_t000_z000\")\n",
    "image_slice_shape, image_dtype = get_max_slice_shape_and_dtype(\n",
    "    file_paths, file_extension)\n",
    "# If single channel, add a new axis\n",
    "if len(image_slice_shape) == 3:\n",
    "    image_slice_shape = (1, *image_slice_shape)\n",
    "# Get maximum time and z from file names\n",
    "max_z = get_max_zslices(file_paths, file_extension)\n",
    "max_time_point = get_max_time_points(file_paths, file_extension)\n",
    "# Build stack shape with the fllowing convention: (channel, time, z, y, x)\n",
    "stack_shape = (\n",
    "    image_slice_shape[0], max_time_point+1, max_z+1, *image_slice_shape[-2:])\n",
    "# Create an empty numpy array with the maximum shape and dtype\n",
    "numpy_array_summed_intensity = np.zeros(stack_shape, dtype=image_dtype)\n",
    "# Get a nested list of time point containing a list of z slices\n",
    "list_of_time_point_paths = get_structured_list_of_paths(\n",
    "    file_paths, file_extension)\n",
    "\n",
    "output_path = folder_path / 'OME-TIFs'\n",
    "output_path.mkdir(exist_ok=True)\n",
    "\n",
    "for z_paths, t in zip(tqdm(list_of_time_point_paths, label='time_points'), range(len(list_of_time_point_paths))):\n",
    "    stack_shape = (*image_slice_shape[:-2], max_z+1, *image_slice_shape[-2:]) # (channel, ut, z, y, x)\n",
    "    numpy_array = np.zeros(stack_shape, dtype=image_dtype)\n",
    "    for path, j in zip(tqdm(z_paths, label='z-slices'), range(len(z_paths))):\n",
    "        data, flim_metadata = imread(path) # Read single file\n",
    "        # Populate zarr array with data\n",
    "        if len(data.shape) == 3:\n",
    "            # If single channel, add a new axis\n",
    "            numpy_array[0, :data.shape[0],\n",
    "                    j, :data.shape[1], :data.shape[2]] = data\n",
    "        else:\n",
    "            numpy_array[:data.shape[0], :data.shape[1],\n",
    "                    j, :data.shape[2], :data.shape[3]] = data\n",
    "    print(f\"Processing timepoint: {t}\")\n",
    "    numpy_array_summed_intensity[:, t, :, :, :] = np.sum(numpy_array, axis=1, dtype=image_dtype) # channel, z, y, x\n",
    "    # Extract metadata\n",
    "    metadata_timelapse, metadata_single_timepoint = format_metadata(\n",
    "        flim_metadata,\n",
    "        data.shape,\n",
    "        z_pixel_size,\n",
    "        pixel_size_unit,\n",
    "        time_resolution_per_slice,\n",
    "        time_unit,\n",
    "        channel_names)\n",
    "    print(f\"Saving OME-TIF...\")\n",
    "\n",
    "    t_string = str(t).zfill(len(str(len(list_of_time_point_paths))))\n",
    "    output_file_name =  folder_path.stem + f'_t{t_string}.ome.tif'\n",
    "    with tifffile.TiffWriter(output_path / output_file_name, ome=True) as tif:\n",
    "        tif.write(numpy_array, metadata=metadata_single_timepoint, compression='zlib')\n",
    "output_file_name = folder_path.stem + '_summed_intensity.ome.tif'\n",
    "with tifffile.TiffWriter(output_path / output_file_name, ome=True) as tif:\n",
    "    tif.write(numpy_array_summed_intensity[:], metadata=metadata_timelapse, compression='zlib')\n",
    "# zarr_metadata = dict()\n",
    "# for i, metadata in enumerate(metadata_list):\n",
    "#     zarr_metadata['channel ' + str(i)] = metadata\n",
    "#     zarr_array.attrs.update(zarr_metadata)\n",
    "print('Done')\n",
    "\n",
    "\n",
    "\n",
    "\n",
    "# # zarr file will be saved in the same folder as the input folder\n",
    "# output_path = folder_path / (folder_path.stem + '.zarr')\n",
    "# # Using zarr to automatically guess chunk sizes\n",
    "# # Use Blosc compressor for better compression and speed\n",
    "# compressor = Blosc(cname='zstd', clevel=3, shuffle=Blosc.BITSHUFFLE)\n",
    "# # Create an empty zarr array of a specified shape and dtype filled with zeros\n",
    "# zarr_array = zarr.open(output_path, mode='w',\n",
    "#                         shape=stack_shape, dtype=image_dtype, compressor=compressor)\n",
    "# # Using dask to rechunk micro-time axis in single chunk (for fft calculation afterwards)\n",
    "# dask_array = da.from_zarr(output_path)\n",
    "# # Rechunk axis 1 (micro-time axis) to a single chunk\n",
    "# dask_array = dask_array.rechunk(chunks={1: -1})\n",
    "# # Overwriting previous zarr rechunked\n",
    "# da.to_zarr(dask_array, output_path, overwrite=True)\n",
    "# # Read zarr as read/write\n",
    "# zarr_array = zarr.open(output_path, mode='r+')\n",
    "# # Fill zarr array with data\n",
    "# for z_paths, i in zip(tqdm(list_of_time_point_paths, label='time_points'), range(len(list_of_time_point_paths))):\n",
    "#     for path, j in zip(tqdm(z_paths, label='z-slices'), range(len(z_paths))):\n",
    "#         data, metadata_list = imread(path)\n",
    "#         # If single channel, add a new axis\n",
    "#         if len(data.shape) == 3:\n",
    "#             zarr_array[0, :data.shape[0], i,\n",
    "#                     j, :data.shape[1], :data.shape[2]] = data\n",
    "#         else:\n",
    "#             zarr_array[:data.shape[0], :data.shape[1], i,\n",
    "#                     j, :data.shape[2], :data.shape[3]] = data\n",
    "# zarr_metadata = dict()\n",
    "# for i, metadata in enumerate(metadata_list):\n",
    "#     zarr_metadata['channel ' + str(i)] = metadata\n",
    "#     zarr_array.attrs.update(zarr_metadata)\n",
    "# print('Done')"
   ]
  },
  {
   "cell_type": "code",
   "execution_count": null,
   "metadata": {},
   "outputs": [],
   "source": [
    "# Additional metadata in case the xml file is not available\n",
    "xml_path = None\n",
    "z_pixel_size = 0.5*1e-6 # in m\n",
    "pixel_size_unit = 'm'\n",
    "time_resolution_per_slice = 0.663 # in seconds\n",
    "time_unit = 's'\n",
    "channel_names = ['Centrosomes', 'Membrane and Chromatin']"
   ]
  },
  {
   "cell_type": "code",
   "execution_count": null,
   "metadata": {},
   "outputs": [],
   "source": [
    "# Read the zarr file\n",
    "        data, flim_metadata = read_stack(zarr_data_path)\n",
    "        summed_intensity_stack = da.sum(data, axis=1).astype(np.uint32)\n",
    "        print(\"Extracting metadata...\")\n",
    "        if xml_path is None:\n",
    "            print(\"No xml file found. Using additional metadata.\")\n",
    "        else:\n",
    "            if not xml_path.exists():\n",
    "                print(\"The xml file does not exist. Using additional metadata.\")\n",
    "            else:\n",
    "                print(f\"Reading metadata from: {xml_path} and zarr file.\")\n",
    "        # Extract metadata\n",
    "        metadata_timelapse, metadata_single_timepoint = format_metadata(\n",
    "            flim_metadata,\n",
    "            xml_path, \n",
    "            data.shape,\n",
    "            z_pixel_size,\n",
    "            pixel_size_unit,\n",
    "            time_resolution_per_slice,\n",
    "            time_unit,\n",
    "            channel_names)\n",
    "\n",
    "        laser_frequency = flim_metadata[0]['frequency']/1e6 # in MHz\n",
    "        print(f'Laser frequency: {laser_frequency} MHz')\n",
    "        # Split channels\n",
    "        image_raw_FLIM_channel_0 = data[0] # first channel\n",
    "        image_raw_FLIM_channel_1 = data[1] # second channel"
   ]
  },
  {
   "cell_type": "markdown",
   "metadata": {},
   "source": [
    "Save summed intensity stack (collapse flim dimension)"
   ]
  },
  {
   "cell_type": "code",
   "execution_count": null,
   "metadata": {},
   "outputs": [],
   "source": [
    "output_file_name = sample_name + '_summed_intensity_with_segmentation.ome.tif'\n",
    "        with tifffile.TiffWriter(omero_output_path / output_file_name, ome=True) as tif:\n",
    "            tif.write(summed_intensity_stack[:], metadata=metadata_timelapse, compression='zlib')"
   ]
  },
  {
   "cell_type": "markdown",
   "metadata": {},
   "source": [
    "Save each datapoint as individual tif"
   ]
  },
  {
   "cell_type": "code",
   "execution_count": null,
   "metadata": {},
   "outputs": [],
   "source": [
    "for t in range(image_raw_FLIM_channel_0.shape[1]):\n",
    "            print(f\"Processing timepoint: {t}\")\n",
    "            print(f\"Saving OME-TIF...\")\n",
    "            t_string = str(t).zfill(len(str(data.shape[2])))\n",
    "            output_file_name =  sample_name + f'_t{t_string}.ome.tif'\n",
    "            with tifffile.TiffWriter(omero_output_path / output_file_name, ome=True) as tif:\n",
    "                tif.write(data[:,:,t], metadata=metadata_single_timepoint, compression='zlib')"
   ]
  }
 ],
 "metadata": {
  "kernelspec": {
   "display_name": "nfpp-env",
   "language": "python",
   "name": "python3"
  },
  "language_info": {
   "codemirror_mode": {
    "name": "ipython",
    "version": 3
   },
   "file_extension": ".py",
   "mimetype": "text/x-python",
   "name": "python",
   "nbconvert_exporter": "python",
   "pygments_lexer": "ipython3",
   "version": "3.10.16"
  }
 },
 "nbformat": 4,
 "nbformat_minor": 2
}
